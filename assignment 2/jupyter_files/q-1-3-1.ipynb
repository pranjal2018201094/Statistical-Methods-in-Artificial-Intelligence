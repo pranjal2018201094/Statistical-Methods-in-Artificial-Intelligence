{
 "cells": [
  {
   "cell_type": "markdown",
   "metadata": {},
   "source": [
    "# Linear Regression\n",
    "\n",
    "In linear regression, the relationships are modeled using linear predictor functions whose unknown model parameters are estimated from the data. Such models are called linear models. Most commonly, the conditional mean of the response given the values of the explanatory variables (or predictors) is assumed to be an affine function of those values; less commonly, the conditional median or some other quantile is used."
   ]
  },
  {
   "cell_type": "code",
   "execution_count": 3,
   "metadata": {},
   "outputs": [],
   "source": [
    "import math\n",
    "import pandas as pd\n",
    "import numpy as np\n",
    "import random\n",
    "import operator\n",
    "import pandas as pd\n",
    "from sklearn.metrics import r2_score"
   ]
  },
  {
   "cell_type": "markdown",
   "metadata": {},
   "source": [
    "# Train-validate Split\n",
    "\n",
    "   In this function, it splits the data into training data and test data and returns two dataframes train and validate "
   ]
  },
  {
   "cell_type": "code",
   "execution_count": 4,
   "metadata": {},
   "outputs": [],
   "source": [
    "def train_validate_split(df,test_size):\n",
    "    if isinstance(test_size,float):\n",
    "        test_size = round(test_size*len(df))\n",
    "        \n",
    "    indices=df.index.tolist()\n",
    "    validate_indices = random.sample(population=indices,k=test_size)\n",
    "    \n",
    "    validate_df=df.loc[validate_indices]\n",
    "    train_df=df.drop(validate_indices)\n",
    "#     print(train_df,validate_df)\n",
    "    return train_df,validate_df"
   ]
  },
  {
   "cell_type": "markdown",
   "metadata": {},
   "source": [
    "# Prediction\n",
    "This function gives predicted values of test data.It take arguments Theta vector and test data."
   ]
  },
  {
   "cell_type": "code",
   "execution_count": 5,
   "metadata": {},
   "outputs": [],
   "source": [
    "def predict(data,theta):\n",
    "#     print(data.shape,theta.shape)\n",
    "    predicted=np.matmul(data,theta)\n",
    "    return predicted"
   ]
  },
  {
   "cell_type": "markdown",
   "metadata": {},
   "source": [
    "# Main ( )\n",
    "This farmat the data into appropriate format and compares the results with actual outputs."
   ]
  },
  {
   "cell_type": "code",
   "execution_count": 6,
   "metadata": {},
   "outputs": [],
   "source": [
    "def main(test_file):\n",
    "    df=pd.read_csv(\"AdmissionDataset/data.csv\")\n",
    "    del df['Serial No.']\n",
    "    \n",
    "#     random.seed(0)\n",
    "    training_df,validation_df=train_validate_split(df,.2)\n",
    "    training_data=training_df.values\n",
    "    label_train=training_data[:,-1]\n",
    "    training_data=training_data[:,:-1]\n",
    "    \n",
    "#     print(training_data)\n",
    "    length=len(training_data)\n",
    "    training_data=training_data.transpose()\n",
    "    a=np.ones(length)\n",
    "    training_data=np.insert(training_data, 0,a,0)\n",
    "#     print(training_data)\n",
    "\n",
    "    \n",
    "    training_data=training_data.transpose()\n",
    "    training_data_traspose=training_data.transpose()\n",
    "#     print(label_train.shape)\n",
    "#     print(training_data.shape,training_data_traspose.shape)\n",
    "    \n",
    "    one=np.matmul(training_data_traspose, training_data)\n",
    "    two=np.linalg.inv(one)\n",
    "    three=np.matmul(two,training_data_traspose)\n",
    "    theta=np.matmul(three,label_train)\n",
    "#     print(theta)\n",
    "    \n",
    "#     df_test=pd.read_csv(\"AdmissionDataset/data.csv\")\n",
    "#     del df['Serial No.']\n",
    "#     validation_data=df_test.values\n",
    "\n",
    "    validation_data=validation_df.values\n",
    "    label_validate=validation_data[:,-1]\n",
    "    validation_data=validation_data[:,:-1]\n",
    "    \n",
    "    length2=len(validation_data)\n",
    "    validation_data=validation_data.transpose()\n",
    "#     print(training_data)\n",
    "    b=np.ones(length2)\n",
    "    validation_data=np.insert(validation_data, 0,b,0)\n",
    "    validation_data=validation_data.transpose()\n",
    "#     print(validation_data.shape)\n",
    "\n",
    "#     theta_tra=theta.transpose()\n",
    "    predicted=predict(validation_data,theta)\n",
    "#     print(predicted.shape,label_validate.shape)\n",
    "    print(r2_score(label_validate,predicted))\n",
    "    "
   ]
  },
  {
   "cell_type": "code",
   "execution_count": 7,
   "metadata": {},
   "outputs": [
    {
     "name": "stdout",
     "output_type": "stream",
     "text": [
      "0.8108857949651744\n"
     ]
    }
   ],
   "source": [
    "test_file=[]\n",
    "main(test_file)"
   ]
  }
 ],
 "metadata": {
  "kernelspec": {
   "display_name": "Python 3",
   "language": "python",
   "name": "python3"
  },
  "language_info": {
   "codemirror_mode": {
    "name": "ipython",
    "version": 3
   },
   "file_extension": ".py",
   "mimetype": "text/x-python",
   "name": "python",
   "nbconvert_exporter": "python",
   "pygments_lexer": "ipython3",
   "version": "3.6.7"
  }
 },
 "nbformat": 4,
 "nbformat_minor": 2
}
