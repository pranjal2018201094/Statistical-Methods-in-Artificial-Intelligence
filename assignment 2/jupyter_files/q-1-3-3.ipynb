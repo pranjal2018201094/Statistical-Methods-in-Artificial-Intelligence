{
 "cells": [
  {
   "cell_type": "markdown",
   "metadata": {},
   "source": [
    "# Performance of Mean square error loss function vs Mean Absolute error function vs Mean absolute percentage error function"
   ]
  },
  {
   "cell_type": "code",
   "execution_count": 4,
   "metadata": {},
   "outputs": [],
   "source": [
    "import math\n",
    "import pandas as pd\n",
    "import numpy as np\n",
    "import random\n",
    "import operator\n",
    "import pandas as pd\n",
    "import matplotlib.pyplot as plt\n",
    "\n",
    "from sklearn.metrics import r2_score"
   ]
  },
  {
   "cell_type": "code",
   "execution_count": 5,
   "metadata": {},
   "outputs": [],
   "source": [
    "def train_validate_split(df,test_size):\n",
    "    if isinstance(test_size,float):\n",
    "        test_size = round(test_size*len(df))\n",
    "        \n",
    "    indices=df.index.tolist()\n",
    "    validate_indices = random.sample(population=indices,k=test_size)\n",
    "    \n",
    "    validate_df=df.loc[validate_indices]\n",
    "    train_df=df.drop(validate_indices)\n",
    "#     print(train_df,validate_df)\n",
    "    return train_df,validate_df"
   ]
  },
  {
   "cell_type": "code",
   "execution_count": null,
   "metadata": {},
   "outputs": [],
   "source": []
  },
  {
   "cell_type": "code",
   "execution_count": 6,
   "metadata": {},
   "outputs": [],
   "source": [
    "def predict(data,theta):\n",
    "#     print(data.shape,theta.shape)\n",
    "    predicted=np.matmul(data,theta)\n",
    "    return predicted"
   ]
  },
  {
   "cell_type": "code",
   "execution_count": 43,
   "metadata": {},
   "outputs": [],
   "source": [
    "def main(test_file):\n",
    "    df=pd.read_csv(\"AdmissionDataset/data.csv\")\n",
    "    del df['Serial No.']\n",
    "    \n",
    "#     random.seed(0)\n",
    "    training_df,validation_df=train_validate_split(df,.2)\n",
    "    training_data=training_df.values\n",
    "    label_train=training_data[:,-1]\n",
    "    training_data=training_data[:,:-1]\n",
    "    \n",
    "#     print(training_data)\n",
    "    length=len(training_data)\n",
    "    training_data=training_data.transpose()\n",
    "    a=np.ones(length)\n",
    "    training_data=np.insert(training_data, 0,a,0)\n",
    "#     print(training_data)\n",
    "\n",
    "    \n",
    "    training_data=training_data.transpose()\n",
    "    training_data_traspose=training_data.transpose()\n",
    "#     print(label_train.shape)\n",
    "#     print(training_data.shape,training_data_traspose.shape)\n",
    "    \n",
    "    one=np.matmul(training_data_traspose, training_data)\n",
    "    two=np.linalg.inv(one)\n",
    "    three=np.matmul(two,training_data_traspose)\n",
    "    theta=np.matmul(three,label_train)\n",
    "#     print(theta)\n",
    "    \n",
    "#     df_test=pd.read_csv(\"AdmissionDataset/data.csv\")\n",
    "#     del df['Serial No.']\n",
    "#     validation_data=df_test.values\n",
    "\n",
    "    validation_data=validation_df.values\n",
    "    label_validate=validation_data[:,-1]\n",
    "    validation_data=validation_data[:,:-1]\n",
    "    \n",
    "    length2=len(validation_data)\n",
    "    validation_data=validation_data.transpose()\n",
    "#     print(training_data)\n",
    "    b=np.ones(length2)\n",
    "    validation_data=np.insert(validation_data, 0,b,0)\n",
    "    validation_data=validation_data.transpose()\n",
    "#     print(validation_data.shape)\n",
    "\n",
    "#     theta_tra=theta.transpose()\n",
    "    predicted=predict(validation_data,theta)\n",
    "#     print(predicted.shape,label_validate.shape)\n",
    "    diff=predicted-label_validate\n",
    "    feature_one=validation_data[:,6]\n",
    "    xis=[]\n",
    "    for i in range(len(diff)):\n",
    "        xis.append(diff[i])\n",
    "    yis=[]\n",
    "    for i in range(len(validation_data)):\n",
    "        yis.append(feature_one[i])\n",
    "    x = yis\n",
    "    y = xis\n",
    "#     print(x,y)\n",
    "    plt.xlabel(\"CGPA\")\n",
    "    plt.ylabel(\"residue\")\n",
    "#     plt.title('Robot 1')\n",
    "#     colors = np.random.rand(5)\n",
    "#     area = (30 * np.random.rand(N))**2  # 0 to 15 point radii\n",
    "\n",
    "    plt.scatter(x,y)\n",
    "    plt.show()"
   ]
  },
  {
   "cell_type": "code",
   "execution_count": 44,
   "metadata": {},
   "outputs": [
    {
     "data": {
      "image/png": "[encoded data removed]",
      "text/plain": [
       "<Figure size 432x288 with 1 Axes>"
      ]
     },
     "metadata": {
      "needs_background": "light"
     },
     "output_type": "display_data"
    }
   ],
   "source": [
    "test_file=[]\n",
    "main(test_file)"
   ]
  }
 ],
 "metadata": {
  "kernelspec": {
   "display_name": "Python 3",
   "language": "python",
   "name": "python3"
  },
  "language_info": {
   "codemirror_mode": {
    "name": "ipython",
    "version": 3
   },
   "file_extension": ".py",
   "mimetype": "text/x-python",
   "name": "python",
   "nbconvert_exporter": "python",
   "pygments_lexer": "ipython3",
   "version": "3.6.7"
  }
 },
 "nbformat": 4,
 "nbformat_minor": 2
}
