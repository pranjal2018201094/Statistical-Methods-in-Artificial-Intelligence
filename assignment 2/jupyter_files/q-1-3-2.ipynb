{
 "cells": [
  {
   "cell_type": "markdown",
   "metadata": {},
   "source": [
    "# Performance of Mean square error loss function vs Mean Absolute error function vs Mean absolute percentage error function"
   ]
  },
  {
   "cell_type": "code",
   "execution_count": 23,
   "metadata": {},
   "outputs": [],
   "source": [
    "import math\n",
    "import pandas as pd\n",
    "import numpy as np\n",
    "import random\n",
    "import operator\n",
    "import pandas as pd\n",
    "from sklearn.metrics import r2_score"
   ]
  },
  {
   "cell_type": "code",
   "execution_count": 24,
   "metadata": {},
   "outputs": [],
   "source": [
    "def train_validate_split(df,test_size):\n",
    "    if isinstance(test_size,float):\n",
    "        test_size = round(test_size*len(df))\n",
    "        \n",
    "    indices=df.index.tolist()\n",
    "    validate_indices = random.sample(population=indices,k=test_size)\n",
    "    \n",
    "    validate_df=df.loc[validate_indices]\n",
    "    train_df=df.drop(validate_indices)\n",
    "#     print(train_df,validate_df)\n",
    "    return train_df,validate_df"
   ]
  },
  {
   "cell_type": "code",
   "execution_count": null,
   "metadata": {},
   "outputs": [],
   "source": []
  },
  {
   "cell_type": "code",
   "execution_count": 25,
   "metadata": {},
   "outputs": [],
   "source": [
    "def predict(data,theta):\n",
    "#     print(data.shape,theta.shape)\n",
    "    predicted=np.matmul(data,theta)\n",
    "    return predicted"
   ]
  },
  {
   "cell_type": "code",
   "execution_count": 26,
   "metadata": {},
   "outputs": [],
   "source": [
    "def main(test_file):\n",
    "    df=pd.read_csv(\"AdmissionDataset/data.csv\")\n",
    "    del df['Serial No.']\n",
    "    \n",
    "    random.seed(0)\n",
    "    training_df,validation_df=train_validate_split(df,.2)\n",
    "    training_data=training_df.values\n",
    "    label_train=training_data[:,-1]\n",
    "    training_data=training_data[:,:-1]\n",
    "    \n",
    "#     print(training_data)\n",
    "    length=len(training_data)\n",
    "    training_data=training_data.transpose()\n",
    "    a=np.ones(length)\n",
    "    training_data=np.insert(training_data, 0,a,0)\n",
    "#     print(training_data)\n",
    "\n",
    "    \n",
    "    training_data=training_data.transpose()\n",
    "    training_data_traspose=training_data.transpose()\n",
    "#     print(label_train.shape)\n",
    "#     print(training_data.shape,training_data_traspose.shape)\n",
    "    \n",
    "    one=np.matmul(training_data_traspose, training_data)\n",
    "    two=np.linalg.inv(one)\n",
    "    three=np.matmul(two,training_data_traspose)\n",
    "    theta=np.matmul(three,label_train)\n",
    "#     print(theta)\n",
    "    \n",
    "#     df_test=pd.read_csv(\"AdmissionDataset/data.csv\")\n",
    "#     del df['Serial No.']\n",
    "#     validation_data=df_test.values\n",
    "\n",
    "    validation_data=validation_df.values\n",
    "    label_validate=validation_data[:,-1]\n",
    "    validation_data=validation_data[:,:-1]\n",
    "    \n",
    "    length2=len(validation_data)\n",
    "    validation_data=validation_data.transpose()\n",
    "#     print(training_data)\n",
    "    b=np.ones(length2)\n",
    "    validation_data=np.insert(validation_data, 0,b,0)\n",
    "    validation_data=validation_data.transpose()\n",
    "#     print(validation_data.shape)\n",
    "\n",
    "#     theta_tra=theta.transpose()\n",
    "    predicted=predict(validation_data,theta)\n",
    "#     print(predicted.shape,label_validate.shape)\n",
    "    mse = (np.square(predicted - label_validate)).mean()\n",
    "    mae = np.sum(np.absolute((predicted.astype(\"float\") - label_validate.astype(\"float\"))))\n",
    "    mape = np.sum((predicted.astype(\"float\") - label_validate.astype(\"float\"))/label_validate.astype(\"float\"))*100/len(label_validate)\n",
    "    print(\"Mean square error loss function :\",mse)\n",
    "    print(\"Mean Absolute error function :\",mae)\n",
    "    print(\"Mean Absolute error percentage function :\",mape)"
   ]
  },
  {
   "cell_type": "code",
   "execution_count": 27,
   "metadata": {},
   "outputs": [
    {
     "name": "stdout",
     "output_type": "stream",
     "text": [
      "Mean square error loss function : 0.0035076322300122173\n",
      "Mean Absolute error function : 4.0086828326832915\n",
      "Mean Absolute error percentage function : -0.28322083232798406\n"
     ]
    }
   ],
   "source": [
    "test_file=[]\n",
    "main(test_file)"
   ]
  },
  {
   "cell_type": "code",
   "execution_count": null,
   "metadata": {},
   "outputs": [],
   "source": []
  },
  {
   "cell_type": "code",
   "execution_count": null,
   "metadata": {},
   "outputs": [],
   "source": []
  },
  {
   "cell_type": "code",
   "execution_count": null,
   "metadata": {},
   "outputs": [],
   "source": []
  },
  {
   "cell_type": "code",
   "execution_count": null,
   "metadata": {},
   "outputs": [],
   "source": []
  },
  {
   "cell_type": "code",
   "execution_count": null,
   "metadata": {},
   "outputs": [],
   "source": []
  }
 ],
 "metadata": {
  "kernelspec": {
   "display_name": "Python 3",
   "language": "python",
   "name": "python3"
  },
  "language_info": {
   "codemirror_mode": {
    "name": "ipython",
    "version": 3
   },
   "file_extension": ".py",
   "mimetype": "text/x-python",
   "name": "python",
   "nbconvert_exporter": "python",
   "pygments_lexer": "ipython3",
   "version": "3.6.7"
  }
 },
 "nbformat": 4,
 "nbformat_minor": 2
}
