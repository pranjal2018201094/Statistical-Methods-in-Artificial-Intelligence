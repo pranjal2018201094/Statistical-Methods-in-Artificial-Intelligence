{
 "cells": [
  {
   "cell_type": "markdown",
   "metadata": {},
   "source": [
    "# Naive Bayes classifier\n",
    "\n",
    "Naive Bayes is a simple technique for constructing classifiers: models that assign class labels to problem instances, represented as vectors of feature values, where the class labels are drawn from some finite set. Naive Bayes classifiers assume that the value of a particular feature is independent of the value of any other feature, given the class variable.\n",
    "Naive Bayes classifiers can be trained very efficiently in a supervised learning setting. In many practical applications, parameter estimation for naive Bayes models uses the method of maximum likelihood; in other words, one can work with the naive Bayes model without accepting Bayesian probability or using any Bayesian methods"
   ]
  },
  {
   "cell_type": "code",
   "execution_count": 10,
   "metadata": {},
   "outputs": [],
   "source": [
    "import math\n",
    "import pandas as pd\n",
    "import numpy as np\n",
    "import matplotlib.pyplot as plt\n",
    "import random\n",
    "import operator\n",
    "import pprint\n",
    "import matplotlib.pyplot as plt\n",
    "import pandas as pd\n",
    "import matplotlib.patches as mpatches"
   ]
  },
  {
   "cell_type": "markdown",
   "metadata": {},
   "source": [
    "# Train-validate Split\n",
    "\n",
    "   In this function, it splits the data into training data and test data and returns two dataframes train and validate "
   ]
  },
  {
   "cell_type": "code",
   "execution_count": 11,
   "metadata": {},
   "outputs": [],
   "source": [
    "def train_validate_split(df,test_size):\n",
    "    if isinstance(test_size,float):\n",
    "        test_size = round(test_size*len(df))\n",
    "        \n",
    "    indices=df.index.tolist()\n",
    "    validate_indices = random.sample(population=indices,k=test_size)\n",
    "    \n",
    "    validate_df=df.loc[validate_indices]\n",
    "    train_df=df.drop(validate_indices)\n",
    "    return train_df,validate_df"
   ]
  },
  {
   "cell_type": "markdown",
   "metadata": {},
   "source": [
    "# Table Spitting\n",
    "\n",
    "This splits the table into two subtables ie. table of trues and table of false outputs."
   ]
  },
  {
   "cell_type": "code",
   "execution_count": 12,
   "metadata": {},
   "outputs": [],
   "source": [
    "def get_subtable(training_data):    \n",
    "    true_data=[]\n",
    "    false_data=[]\n",
    "    for i in training_data:\n",
    "        if i[-1]==1:\n",
    "            true_data.append(list(i))\n",
    "        elif i[-1]==0:\n",
    "            false_data.append(i)\n",
    "    true_dat=np.array(true_data,dtype=object)\n",
    "    false_dat=np.array(false_data,dtype=object)\n",
    "    return true_dat,false_dat"
   ]
  },
  {
   "cell_type": "markdown",
   "metadata": {},
   "source": [
    "# Probability calculation for Catagorical data\n",
    "\n",
    "This function calculates the probabitity of a given catagorical column."
   ]
  },
  {
   "cell_type": "code",
   "execution_count": 13,
   "metadata": {},
   "outputs": [],
   "source": [
    "def prob_of_col_catag(col,data,value):\n",
    "    count=0\n",
    "    tfs=len(data)\n",
    "    for x in data:\n",
    "        if x[col]==value:\n",
    "            count+=1\n",
    "    prob=count/tfs\n",
    "    return prob"
   ]
  },
  {
   "cell_type": "markdown",
   "metadata": {},
   "source": [
    "# Probability calculation for Numerical data\n",
    "\n",
    "This function calculates the probabitity of a given numerical column."
   ]
  },
  {
   "cell_type": "code",
   "execution_count": 14,
   "metadata": {},
   "outputs": [],
   "source": [
    "def prob_of_col_num(col,data,value):\n",
    "    n=len(data)\n",
    "    mean=data[:,col].mean()\n",
    "#     print(mean)\n",
    "#     variance = sum([pow(x-mn,2) for x in data[:,col]])/float(len(data[:,col])-1)\n",
    "#     print(variance)\n",
    "#     stdev=math.sqrt(variance)\n",
    "#     print(std_dev)\n",
    "    stdev=data[:,col].std()\n",
    "#     exponent=math.exp(-1*(pow(value-mn,2)/(2*pow(std_dev,2))))\n",
    "#     prob=(1/(math.sqrt(2*math.pi)*std_dev))*exponent\n",
    "    exponent = math.exp(-(math.pow(value-mean,2)/(2*math.pow(stdev,2))))\n",
    "    return (1 / (math.sqrt(2*math.pi) * stdev)) * exponent\n",
    "#     print(prob)\n",
    "#     return prob"
   ]
  },
  {
   "cell_type": "markdown",
   "metadata": {},
   "source": [
    "# Checking (Prediction)\n",
    "\n",
    "This function predicts the output of test data by comparing probabilities of output."
   ]
  },
  {
   "cell_type": "code",
   "execution_count": 20,
   "metadata": {},
   "outputs": [],
   "source": [
    "def calc(validation,training_data,true_table,false_table,inv_ind):\n",
    "    prob_true=1\n",
    "    prob_false=1\n",
    "    for x in inv_ind:\n",
    "#         print(x)\n",
    "        if inv_ind[x]==10:\n",
    "            prob=prob_of_col_num(x,true_table,validation[x])\n",
    "        elif inv_ind[x]==20:\n",
    "            prob=prob_of_col_catag(x,true_table,validation[x])\n",
    "#         print(prob)\n",
    "        prob_true=prob_true*prob\n",
    "    prob_true=prob_true*len(true_table)/(len(true_table)+len(false_table))    \n",
    "#     print(\" \")\n",
    "    for x in inv_ind:\n",
    "        if inv_ind[x]==10:\n",
    "            prob=prob_of_col_num(x,false_table,validation[x])\n",
    "        elif inv_ind[x]==20:\n",
    "            prob=prob_of_col_catag(x,false_table,validation[x])\n",
    "        prob_false=prob_false*prob\n",
    "    prob_false=prob_false*len(false_table)/(len(true_table)+len(false_table))\n",
    "\n",
    "#     print(prob_true,prob_false)\n",
    "    \n",
    "    if prob_true>prob_false:\n",
    "        prediction=1\n",
    "    else:\n",
    "        prediction=0\n",
    "    return prediction"
   ]
  },
  {
   "cell_type": "markdown",
   "metadata": {},
   "source": [
    "# Main ( )"
   ]
  },
  {
   "cell_type": "code",
   "execution_count": 23,
   "metadata": {},
   "outputs": [],
   "source": [
    "def main(test_file):\n",
    "    # random.seed(0)\n",
    "    df=pd.read_csv(\"data.csv\", header = None)\n",
    "    df = df[1:]\n",
    "    new_arr=df.values\n",
    "    # trimmed_matrix = new_arr[:,1:len(new_arr[0])]\n",
    "    training_df,validation_df=train_validate_split(df,.2)\n",
    "    training_data=training_df.values\n",
    "    \n",
    "    validation_data=validation_df.values\n",
    "#     test_df=pd.read_csv(test_file, header = None)\n",
    "#     validation_data=test_df.values\n",
    "    \n",
    "    training_data[:,[-1,10]] = training_data[:,[10,-1]]\n",
    "    validation_data[:,[-1,10]] = validation_data[:,[10,-1]]\n",
    "#     print(validation_data.shape)\n",
    "\n",
    "    inv_ind={1:10,2:10,3:10,4:10,5:10,6:10,7:20,8:10,9:20,10:20,11:20,12:20}\n",
    "    \n",
    "    true_table,false_table=get_subtable(training_data)\n",
    "    # print(validation_data.shape)\n",
    "    true=0\n",
    "    false=0\n",
    "    for x in validation_data:\n",
    "        prediction=calc(x,training_data,true_table,false_table,inv_ind)\n",
    "        if prediction==x[-1]:\n",
    "            true+=1\n",
    "        else:\n",
    "            false+=1\n",
    "    print(true,false)\n",
    "    print(true/(false+true))"
   ]
  },
  {
   "cell_type": "code",
   "execution_count": 24,
   "metadata": {},
   "outputs": [
    {
     "name": "stdout",
     "output_type": "stream",
     "text": [
      "804 96\n",
      "0.8933333333333333\n"
     ]
    }
   ],
   "source": [
    "test_file=[]\n",
    "main(test_file)"
   ]
  },
  {
   "cell_type": "code",
   "execution_count": null,
   "metadata": {},
   "outputs": [],
   "source": []
  }
 ],
 "metadata": {
  "kernelspec": {
   "display_name": "Python 3",
   "language": "python",
   "name": "python3"
  },
  "language_info": {
   "codemirror_mode": {
    "name": "ipython",
    "version": 3
   },
   "file_extension": ".py",
   "mimetype": "text/x-python",
   "name": "python",
   "nbconvert_exporter": "python",
   "pygments_lexer": "ipython3",
   "version": "3.6.7"
  }
 },
 "nbformat": 4,
 "nbformat_minor": 2
}
