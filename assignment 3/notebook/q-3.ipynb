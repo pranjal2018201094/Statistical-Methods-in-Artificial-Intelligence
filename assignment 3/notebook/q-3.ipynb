{
 "cells": [
  {
   "cell_type": "code",
   "execution_count": 234,
   "metadata": {},
   "outputs": [],
   "source": [
    "import numpy as np\n",
    "import math\n",
    "import pandas as pd\n",
    "from scipy.optimize import fmin_tnc\n",
    "import matplotlib.pyplot as plt\n",
    "import seaborn as sns\n",
    "%matplotlib inline\n",
    "\n",
    "import random"
   ]
  },
  {
   "cell_type": "code",
   "execution_count": 235,
   "metadata": {},
   "outputs": [],
   "source": [
    "df = pd.read_csv(\"wine-quality/data.csv\")\n",
    "# df.values"
   ]
  },
  {
   "cell_type": "code",
   "execution_count": 236,
   "metadata": {},
   "outputs": [],
   "source": [
    "def train_validate_split(df,test_size):\n",
    "    if isinstance(test_size,float):\n",
    "        test_size = round(test_size*len(df))\n",
    "        \n",
    "    indices=df.index.tolist()\n",
    "    validate_indices = random.sample(population=indices,k=test_size)\n",
    "    \n",
    "    validate_df=df.loc[validate_indices]\n",
    "    train_df=df.drop(validate_indices)\n",
    "    return train_df,validate_df"
   ]
  },
  {
   "cell_type": "code",
   "execution_count": 237,
   "metadata": {},
   "outputs": [],
   "source": [
    "# random.seed(0)\n",
    "train_df,validate_df=train_validate_split(df,0.2)"
   ]
  },
  {
   "cell_type": "code",
   "execution_count": 238,
   "metadata": {},
   "outputs": [],
   "source": [
    "def sigmoid(z):\n",
    "    return 1 / (1 + np.exp(-z))"
   ]
  },
  {
   "cell_type": "code",
   "execution_count": 239,
   "metadata": {
    "scrolled": false
   },
   "outputs": [
    {
     "name": "stdout",
     "output_type": "stream",
     "text": [
      "accuracy :  0.2891156462585034\n"
     ]
    }
   ],
   "source": [
    "data=train_df\n",
    "\n",
    "# print(df.shape)\n",
    "initial_theta = [0,0]\n",
    "alpha = 0.1\n",
    "iterations = 1000\n",
    "\n",
    "X = data.iloc[:,:-1]\n",
    "y = data.iloc[:,-1]\n",
    "\n",
    "X=(X-np.mean(X))/np.std(X)\n",
    "\n",
    "X_validate=validate_df.iloc[:,:-1]\n",
    "y_validate=validate_df.values[:,-1]\n",
    "# X_validate=(X_validate-np.mean(X))/np.std(X)\n",
    "\n",
    "X_validate=np.c_[np.ones((X_validate.shape[0], 1)), X_validate]\n",
    "\n",
    "X = np.c_[np.ones((X.shape[0], 1)), X]\n",
    "y = y[:, np.newaxis]\n",
    "\n",
    "####################################################################\n",
    "\n",
    "uniq=np.unique(y)\n",
    "# print(uniq)\n",
    "prediction_list=[]\n",
    "for p in uniq:\n",
    "\n",
    "#     print(p)\n",
    "    y_new=np.copy(y)\n",
    "#     print(y_new.T)\n",
    "    for x in range(len(y_new)):\n",
    "        if y_new[x]==p:\n",
    "            y_new[x]=1\n",
    "        else:\n",
    "            y_new[x]=0\n",
    "            \n",
    "#     print(y_new.T)\n",
    "\n",
    "    theta = np.zeros((X.shape[1], 1))\n",
    "\n",
    "    z=np.dot(X,theta)\n",
    "\n",
    "    h = sigmoid(z)\n",
    "\n",
    "    for i in range(1000):\n",
    "        gradient = np.dot(X.T, (h - y_new)) / y_new.shape[0]\n",
    "        lr = 0.01\n",
    "        theta -= lr * gradient\n",
    "        z = np.dot(X, theta)\n",
    "        h = sigmoid(z)\n",
    "\n",
    "    prdctn=sigmoid(np.dot(X_validate, theta))\n",
    "    p = [q[0] for q in prdctn]\n",
    "    prediction_list.append(p)\n",
    "#     print(prdctn.shape)\n",
    "    \n",
    "prediction_list=np.array(prediction_list)\n",
    "predicted_classes = np.argmax(prediction_list,axis=0)\n",
    "predicted_classes = [uniq[p] for p in predicted_classes]\n",
    "# print(predicted_classes)\n",
    "# print(prediction_list.shape)\n",
    "\n",
    "# max_values = np.max(prediction_list,axis=0)\n",
    "# print(max_values)\n",
    "\n",
    "true=0\n",
    "total=0\n",
    "# print(y_validate,predicted_classes)\n",
    "\n",
    "for x in range(len(y_validate)):\n",
    "    if y_validate[x]==predicted_classes[x]:\n",
    "        true+=1\n",
    "    total+=1\n",
    "\n",
    "print(\"accuracy : \",(true/total))\n"
   ]
  },
  {
   "cell_type": "code",
   "execution_count": null,
   "metadata": {},
   "outputs": [],
   "source": []
  }
 ],
 "metadata": {
  "kernelspec": {
   "display_name": "Python 3",
   "language": "python",
   "name": "python3"
  },
  "language_info": {
   "codemirror_mode": {
    "name": "ipython",
    "version": 3
   },
   "file_extension": ".py",
   "mimetype": "text/x-python",
   "name": "python",
   "nbconvert_exporter": "python",
   "pygments_lexer": "ipython3",
   "version": "3.6.7"
  }
 },
 "nbformat": 4,
 "nbformat_minor": 2
}
