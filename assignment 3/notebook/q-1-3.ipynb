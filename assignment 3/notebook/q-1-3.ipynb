{
 "cells": [
  {
   "cell_type": "markdown",
   "metadata": {},
   "source": [
    "# import Statements"
   ]
  },
  {
   "cell_type": "code",
   "execution_count": 19,
   "metadata": {},
   "outputs": [],
   "source": [
    "import numpy as np\n",
    "import pandas as pd\n",
    "from sklearn.mixture import GaussianMixture\n",
    "import matplotlib.pyplot as plt\n",
    "import seaborn as sns\n",
    "%matplotlib inline\n",
    "\n",
    "import random\n",
    "from pprint import pprint\n"
   ]
  },
  {
   "cell_type": "code",
   "execution_count": 20,
   "metadata": {},
   "outputs": [],
   "source": [
    "df = pd.read_csv(\"intrusion_detection/data.csv\")\n",
    "# df = df.rename(columns={\"left\": \"label\"})\n"
   ]
  },
  {
   "cell_type": "markdown",
   "metadata": {},
   "source": [
    "# Training and Validation data split"
   ]
  },
  {
   "cell_type": "code",
   "execution_count": 21,
   "metadata": {},
   "outputs": [],
   "source": [
    "def train_validate_split(df,test_size):\n",
    "    if isinstance(test_size,float):\n",
    "        test_size = round(test_size*len(df))\n",
    "        \n",
    "    indices=df.index.tolist()\n",
    "    validate_indices = random.sample(population=indices,k=test_size)\n",
    "    \n",
    "    validate_df=df.loc[validate_indices]\n",
    "    train_df=df.drop(validate_indices)\n",
    "    return train_df,validate_df"
   ]
  },
  {
   "cell_type": "code",
   "execution_count": 22,
   "metadata": {},
   "outputs": [],
   "source": [
    "# random.seed(0)\n",
    "# train_df,validate_df=train_validate_split(df,test_size=0.2)"
   ]
  },
  {
   "cell_type": "code",
   "execution_count": 23,
   "metadata": {
    "scrolled": false
   },
   "outputs": [],
   "source": [
    "data = df.values\n",
    "data=data[:,:-1]\n",
    "label=df.values\n",
    "label=label[:,-1]\n",
    "# validate_df.head()\n",
    "name_list=list(df)\n",
    "\n",
    "# print(data.shape,label.shape)\n",
    "\n",
    "mean_list=[]\n",
    "new_values=data.transpose()\n",
    "\n",
    "X = df.loc[:,'duration':'dst_host_srv_rerror_rate']\n",
    "\n",
    "X.loc[:,'duration':'dst_host_srv_rerror_rate']=(X.loc[:,'duration':'dst_host_srv_rerror_rate'] - X.loc[:,'duration':'dst_host_srv_rerror_rate'].mean())/X.loc[:,'duration':'dst_host_srv_rerror_rate'].std()\n",
    "\n",
    "covarience=np.cov(np.array(X.T))\n",
    "# print(covarience.shape)\n",
    "\n",
    "eigen_values,eigen_vectors=np.linalg.eig(covarience)\n",
    "# print(eigen_values)\n",
    "\n",
    "max_val=[]\n",
    "for i in range(len(eigen_values)):\n",
    "    temp=eigen_values[i]/sum(eigen_values)\n",
    "    max_val.append((temp,i))\n",
    "    \n",
    "# print(max_val)\n",
    "max_val=sorted(max_val)\n",
    "max_val.reverse()\n",
    "# print(max_val)\n",
    "newdata_list=[]\n",
    "temp=0\n",
    "\n",
    "for x in max_val:\n",
    "    if temp >= (.9):\n",
    "        break\n",
    "    temp+=x[0]\n",
    "    newdata_list.append(x[1])\n",
    "\n",
    "# print(newdata_list)\n",
    "# print(type(data),type(new_data))\n",
    "new_data=eigen_vectors[:,newdata_list]    \n",
    "# print(new_data)\n",
    "new_data=np.dot(X,new_data)\n",
    "# print(new_data)\n"
   ]
  },
  {
   "cell_type": "code",
   "execution_count": 29,
   "metadata": {},
   "outputs": [
    {
     "name": "stdout",
     "output_type": "stream",
     "text": [
      "normal 0.750818139317438\n",
      "dos 1.0\n",
      "normal 0.3813664596273292\n",
      "normal 0.883893586306455\n",
      "normal 0.8088923556942278\n",
      "final_acc  :  0.7843827506200496\n"
     ]
    }
   ],
   "source": [
    "gmm = GaussianMixture(n_components=5)\n",
    "array=gmm.fit_predict(new_data)\n",
    "\n",
    "data2=df.values\n",
    "list1=[]\n",
    "list2=[]\n",
    "list3=[]\n",
    "list4=[]\n",
    "list5=[]\n",
    "\n",
    "for x in range(len(array)):\n",
    "    if array[x]==0:\n",
    "        list1.append(data2[x])\n",
    "    elif array[x]==1:\n",
    "        list2.append(data2[x])\n",
    "    elif array[x]==2:\n",
    "        list3.append(data2[x])\n",
    "    elif array[x]==3:\n",
    "        list4.append(data2[x])\n",
    "    elif array[x]==4:\n",
    "        list5.append(data2[x])\n",
    "        \n",
    "maximum=0\n",
    "y=np.array(list1)\n",
    "uniq,count=np.unique(y[:,-1],return_counts=True)\n",
    "catagory1=uniq[np.argmax(count)]\n",
    "accuracy1=max(count)/np.sum(count)\n",
    "maximum=maximum+max(count)\n",
    "print(catagory1,accuracy1)\n",
    "\n",
    "y=np.array(list2)\n",
    "uniq,count=np.unique(y[:,-1],return_counts=True)\n",
    "catagory2=uniq[np.argmax(count)]\n",
    "accuracy2=max(count)/np.sum(count)\n",
    "maximum=maximum+max(count)\n",
    "print(catagory2,accuracy2)\n",
    "\n",
    "y=np.array(list3)\n",
    "uniq,count=np.unique(y[:,-1],return_counts=True)\n",
    "catagory3=uniq[np.argmax(count)]\n",
    "accuracy3=max(count)/np.sum(count)\n",
    "maximum=maximum+max(count)\n",
    "print(catagory3,accuracy3)\n",
    "\n",
    "y=np.array(list4)\n",
    "uniq,count=np.unique(y[:,-1],return_counts=True)\n",
    "catagory4=uniq[np.argmax(count)]\n",
    "accuracy4=max(count)/np.sum(count)\n",
    "maximum=maximum+max(count)\n",
    "print(catagory4,accuracy4)\n",
    "\n",
    "y=np.array(list5)\n",
    "uniq,count=np.unique(y[:,-1],return_counts=True)\n",
    "catagory5=uniq[np.argmax(count)]\n",
    "accuracy5=max(count)/np.sum(count)\n",
    "maximum=maximum+max(count)\n",
    "print(catagory5,accuracy5)\n",
    "\n",
    "final_acc=maximum/len(data2)\n",
    "\n",
    "print(\"final_acc  : \",final_acc )"
   ]
  },
  {
   "cell_type": "code",
   "execution_count": null,
   "metadata": {},
   "outputs": [],
   "source": []
  },
  {
   "cell_type": "code",
   "execution_count": null,
   "metadata": {},
   "outputs": [],
   "source": []
  }
 ],
 "metadata": {
  "kernelspec": {
   "display_name": "Python 3",
   "language": "python",
   "name": "python3"
  },
  "language_info": {
   "codemirror_mode": {
    "name": "ipython",
    "version": 3
   },
   "file_extension": ".py",
   "mimetype": "text/x-python",
   "name": "python",
   "nbconvert_exporter": "python",
   "pygments_lexer": "ipython3",
   "version": "3.6.7"
  }
 },
 "nbformat": 4,
 "nbformat_minor": 2
}
