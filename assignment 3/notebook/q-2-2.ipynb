{
 "cells": [
  {
   "cell_type": "code",
   "execution_count": 1,
   "metadata": {},
   "outputs": [],
   "source": [
    "import numpy as np\n",
    "import math\n",
    "import pandas as pd\n",
    "from scipy.optimize import fmin_tnc\n",
    "import matplotlib.pyplot as plt\n",
    "import seaborn as sns\n",
    "%matplotlib inline\n",
    "\n",
    "import random"
   ]
  },
  {
   "cell_type": "code",
   "execution_count": 2,
   "metadata": {},
   "outputs": [],
   "source": [
    "df = pd.read_csv(\"AdmissionDataset/data.csv\")"
   ]
  },
  {
   "cell_type": "code",
   "execution_count": 3,
   "metadata": {},
   "outputs": [],
   "source": [
    "def train_validate_split(df,test_size):\n",
    "    if isinstance(test_size,float):\n",
    "        test_size = round(test_size*len(df))\n",
    "        \n",
    "    indices=df.index.tolist()\n",
    "    validate_indices = random.sample(population=indices,k=test_size)\n",
    "    \n",
    "    validate_df=df.loc[validate_indices]\n",
    "    train_df=df.drop(validate_indices)\n",
    "    return train_df,validate_df"
   ]
  },
  {
   "cell_type": "code",
   "execution_count": 4,
   "metadata": {},
   "outputs": [],
   "source": [
    "train_df,validate_df=train_validate_split(df,0.2)\n"
   ]
  },
  {
   "cell_type": "code",
   "execution_count": 5,
   "metadata": {},
   "outputs": [],
   "source": [
    "def sigmoid(z):\n",
    "    return 1 / (1 + np.exp(-z))"
   ]
  },
  {
   "cell_type": "code",
   "execution_count": 6,
   "metadata": {},
   "outputs": [],
   "source": [
    "def logistic():\n",
    "    data=train_df\n",
    "    \n",
    "    initial_theta = [0,0]\n",
    "    alpha = 0.1\n",
    "    iterations = 1000\n",
    "\n",
    "    X = data.iloc[:,1:-1]\n",
    "    y = data.iloc[:, -1]\n",
    "\n",
    "    X_validate=validate_df.iloc[:,1:-1]\n",
    "    X=(X-np.mean(X))/np.std(X)\n",
    "\n",
    "    X_validate=np.c_[np.ones((X_validate.shape[0], 1)), X_validate]\n",
    "    \n",
    "    X = np.c_[np.ones((X.shape[0], 1)), X]\n",
    "    y = y[:, np.newaxis]\n",
    "    theta = np.zeros((X.shape[1], 1))\n",
    "\n",
    "    z=np.dot(X,theta)\n",
    "\n",
    "    h = sigmoid(z)\n",
    "\n",
    "    for i in range(1000):\n",
    "        gradient = np.dot(X.T, (h - y)) / y.shape[0]\n",
    "        lr = 0.01\n",
    "        theta -= lr * gradient\n",
    "        z = np.dot(X, theta)\n",
    "        h = sigmoid(z)\n",
    "\n",
    "    prdctn=sigmoid(np.dot(X_validate,theta))\n",
    "    t_p=0\n",
    "    t_n=0\n",
    "    f_n=0\n",
    "    f_p=0\n",
    "    for i in range(len(prdctn)):\n",
    "    #       print(y[i],prdctn[i])\n",
    "        if y[i]>=(.5):\n",
    "            if prdctn[i]>=(.5):\n",
    "                t_p+=1\n",
    "            else:\n",
    "                f_n+=1\n",
    "        else:\n",
    "            if prdctn[i]<(.5):\n",
    "                t_n+=1\n",
    "            else:\n",
    "                f_p+=1\n",
    "    total=t_p+t_n+f_n+f_p\n",
    "    print(\"Accuracy :\",((t_p+t_n)/total))\n",
    "\n",
    "# print(final_prediction)"
   ]
  },
  {
   "cell_type": "code",
   "execution_count": 7,
   "metadata": {},
   "outputs": [],
   "source": [
    "def distances(train,test):\n",
    "    distance=0\n",
    "    for i in range(len(train)-1):\n",
    "        distance=distance+pow((train[i]-test[i]),2)\n",
    "#     print(distance)\n",
    "    return distance"
   ]
  },
  {
   "cell_type": "code",
   "execution_count": 8,
   "metadata": {},
   "outputs": [],
   "source": [
    "def find_min_k(training_data,test_sample,k):\n",
    "#     print(training_data[0],test_sample,k)\n",
    "    all_dist=dict()\n",
    "    for x in range(len(training_data)):\n",
    "#         print(x)\n",
    "        all_dist[x]=(distances(training_data[x],test_sample)) \n",
    "    \n",
    "    lists=(sorted(all_dist.items(), key = lambda kv:(kv[1], kv[0])))\n",
    "    k_least=[]\n",
    "    for i in range(k):\n",
    "        k_least.append(lists[i])\n",
    "    return k_least"
   ]
  },
  {
   "cell_type": "code",
   "execution_count": 9,
   "metadata": {},
   "outputs": [],
   "source": [
    "def checking(training_data,validation_data,k):\n",
    "    k_least=find_min_k(training_data,validation_data,k)\n",
    "#     print(k_least)\n",
    "    uniq=np.unique(training_data[:,-1])\n",
    "    uniq.sort()\n",
    "    types=[]\n",
    "    for i in range(len(uniq)):\n",
    "        types.append(0)\n",
    "    for x in k_least:\n",
    "        for i in range(len(uniq)):\n",
    "            if training_data[x[0],-1]==uniq[i]:\n",
    "                types[i]+=1\n",
    "            \n",
    "    indx=types.index(max(types))\n",
    "    predicted=uniq[indx]\n",
    "    return predicted\n",
    "#     print(k_least)"
   ]
  },
  {
   "cell_type": "code",
   "execution_count": 10,
   "metadata": {},
   "outputs": [],
   "source": [
    "def knn():\n",
    "    \n",
    "#     training_df,validation_df=train_validate_split(df,.2)\n",
    "    train_data = train_df.iloc[:,1:]\n",
    "    training_data=train_data.values\n",
    "    for x in range(len(training_data)):\n",
    "        if training_data[x][-1]>=(0.5):\n",
    "            training_data[x][-1]=1\n",
    "        else:\n",
    "            training_data[x][-1]=0\n",
    "    \n",
    "    validate_data = validate_df.iloc[:,1:]\n",
    "    validation_data=validate_data.values\n",
    "    for x in range(len(validation_data)):\n",
    "        if validation_data[x][-1]>=(0.5):\n",
    "            validation_data[x][-1]=1\n",
    "        else:\n",
    "            validation_data[x][-1]=0\n",
    "\n",
    "    true=0\n",
    "    for i in validation_data:\n",
    "        predicted=checking(training_data,i,6)\n",
    "        if predicted==i[-1]:\n",
    "            true+=1\n",
    "    total=len(validation_data)\n",
    "    accuracy=true/total\n",
    "\n",
    "#     print(\"Iris\")\n",
    "    print(\"accuracy :\",(accuracy))\n",
    "#     print(\"precision :\",(precision1+precision2+precision3)/3)\n",
    "#     print(\"recall :\",(recall1+recall2+recall3)/3)\n",
    "#     print(\"f1_score :\",(f1_score1+f1_score2+f1_score3)/3)"
   ]
  },
  {
   "cell_type": "code",
   "execution_count": 11,
   "metadata": {},
   "outputs": [
    {
     "name": "stdout",
     "output_type": "stream",
     "text": [
      "Accuracy : 0.9222222222222223\n"
     ]
    }
   ],
   "source": [
    "logistic()"
   ]
  },
  {
   "cell_type": "code",
   "execution_count": 12,
   "metadata": {},
   "outputs": [
    {
     "name": "stdout",
     "output_type": "stream",
     "text": [
      "accuracy : 0.9555555555555556\n"
     ]
    }
   ],
   "source": [
    "knn()"
   ]
  },
  {
   "cell_type": "code",
   "execution_count": null,
   "metadata": {},
   "outputs": [],
   "source": []
  },
  {
   "cell_type": "code",
   "execution_count": null,
   "metadata": {},
   "outputs": [],
   "source": []
  }
 ],
 "metadata": {
  "kernelspec": {
   "display_name": "Python 3",
   "language": "python",
   "name": "python3"
  },
  "language_info": {
   "codemirror_mode": {
    "name": "ipython",
    "version": 3
   },
   "file_extension": ".py",
   "mimetype": "text/x-python",
   "name": "python",
   "nbconvert_exporter": "python",
   "pygments_lexer": "ipython3",
   "version": "3.6.7"
  }
 },
 "nbformat": 4,
 "nbformat_minor": 2
}
