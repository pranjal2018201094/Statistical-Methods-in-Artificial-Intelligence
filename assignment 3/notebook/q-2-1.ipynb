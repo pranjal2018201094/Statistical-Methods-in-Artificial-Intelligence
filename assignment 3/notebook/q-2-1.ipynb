{
 "cells": [
  {
   "cell_type": "code",
   "execution_count": 14,
   "metadata": {},
   "outputs": [],
   "source": [
    "import numpy as np\n",
    "import math\n",
    "import pandas as pd\n",
    "from scipy.optimize import fmin_tnc\n",
    "import matplotlib.pyplot as plt\n",
    "import seaborn as sns\n",
    "%matplotlib inline\n",
    "\n",
    "import random"
   ]
  },
  {
   "cell_type": "code",
   "execution_count": 15,
   "metadata": {},
   "outputs": [],
   "source": [
    "df = pd.read_csv(\"AdmissionDataset/data.csv\")"
   ]
  },
  {
   "cell_type": "code",
   "execution_count": 16,
   "metadata": {},
   "outputs": [],
   "source": [
    "def train_validate_split(df,test_size):\n",
    "    if isinstance(test_size,float):\n",
    "        test_size = round(test_size*len(df))\n",
    "        \n",
    "    indices=df.index.tolist()\n",
    "    validate_indices = random.sample(population=indices,k=test_size)\n",
    "    \n",
    "    validate_df=df.loc[validate_indices]\n",
    "    train_df=df.drop(validate_indices)\n",
    "    return train_df,validate_df"
   ]
  },
  {
   "cell_type": "code",
   "execution_count": 20,
   "metadata": {},
   "outputs": [],
   "source": [
    "train_df,validate_df=train_validate_split(df,0.2)\n"
   ]
  },
  {
   "cell_type": "code",
   "execution_count": 21,
   "metadata": {},
   "outputs": [],
   "source": [
    "def sigmoid(z):\n",
    "    return 1 / (1 + np.exp(-z))"
   ]
  },
  {
   "cell_type": "code",
   "execution_count": 22,
   "metadata": {},
   "outputs": [
    {
     "name": "stdout",
     "output_type": "stream",
     "text": [
      "accuracy :  0.9666666666666667\n"
     ]
    }
   ],
   "source": [
    "data=train_df\n",
    "\n",
    "initial_theta = [0,0]\n",
    "alpha = 0.1\n",
    "iterations = 1000\n",
    "\n",
    "X = data.iloc[:,1:-1]\n",
    "y = data.iloc[:,-1]\n",
    "\n",
    "X=(X-np.mean(X))/np.std(X)\n",
    "\n",
    "X_validate=validate_df.iloc[:,1:-1]\n",
    "y_validate=validate_df.values[:,-1]\n",
    "X_validate=(X_validate-np.mean(X))/np.std(X)\n",
    "\n",
    "X_validate=np.c_[np.ones((X_validate.shape[0], 1)), X_validate]\n",
    "\n",
    "X = np.c_[np.ones((X.shape[0], 1)), X]\n",
    "y = y[:, np.newaxis]\n",
    "\n",
    "theta = np.zeros((X.shape[1], 1))\n",
    "\n",
    "z=np.dot(X,theta)\n",
    "\n",
    "h = sigmoid(z)\n",
    "\n",
    "for i in range(1000):\n",
    "    gradient = np.dot(X.T, (h - y)) / y.shape[0]\n",
    "    lr = 0.01\n",
    "    theta -= lr * gradient\n",
    "    z = np.dot(X, theta)\n",
    "    h = sigmoid(z)\n",
    "    \n",
    "prdctn=sigmoid(np.dot(X_validate, theta))\n",
    "final_prediction=[]\n",
    "for i in range(len(prdctn)):\n",
    "#       print(y[i],prdctn[i])\n",
    "    if prdctn[i]>=(.5):\n",
    "        final_prediction.append(1)\n",
    "    else:\n",
    "        final_prediction.append(0)\n",
    "        \n",
    "true=0\n",
    "total=0\n",
    "# print(y_validate)\n",
    "y_validation=[]\n",
    "for x in range(len(y_validate)):\n",
    "    if y_validate[x]>=(.5):\n",
    "        y_validation.append(1)\n",
    "    else:\n",
    "        y_validation.append(0)\n",
    "        \n",
    "# print(y_validation)\n",
    "for x in range(len(y_validation)):\n",
    "    if y_validation[x]==final_prediction[x]:\n",
    "        true+=1\n",
    "    total+=1\n",
    "\n",
    "print(\"accuracy : \",(true/total))\n"
   ]
  }
 ],
 "metadata": {
  "kernelspec": {
   "display_name": "Python 3",
   "language": "python",
   "name": "python3"
  },
  "language_info": {
   "codemirror_mode": {
    "name": "ipython",
    "version": 3
   },
   "file_extension": ".py",
   "mimetype": "text/x-python",
   "name": "python",
   "nbconvert_exporter": "python",
   "pygments_lexer": "ipython3",
   "version": "3.6.7"
  }
 },
 "nbformat": 4,
 "nbformat_minor": 2
}
